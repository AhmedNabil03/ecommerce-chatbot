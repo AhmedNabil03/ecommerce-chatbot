{
  "nbformat": 4,
  "nbformat_minor": 0,
  "metadata": {
    "colab": {
      "provenance": []
    },
    "kernelspec": {
      "name": "python3",
      "display_name": "Python 3"
    },
    "language_info": {
      "name": "python"
    }
  },
  "cells": [
    {
      "cell_type": "code",
      "source": [
        "!pip install -qU langgraph langchain-groq langchain-community"
      ],
      "metadata": {
        "id": "sK5eo4eZqurJ"
      },
      "execution_count": 1,
      "outputs": []
    },
    {
      "cell_type": "code",
      "source": [
        "import os\n",
        "from sqlalchemy import create_engine\n",
        "from langchain_community.utilities import SQLDatabase\n",
        "from langchain.chains import create_sql_query_chain\n",
        "from langchain_groq import ChatGroq\n",
        "from langgraph.graph import StateGraph\n",
        "from pydantic import BaseModel\n",
        "from typing import Optional\n",
        "\n",
        "from google.colab import userdata, drive\n",
        "GROQ_API_KEY = userdata.get('GROQ_API_KEY')\n",
        "\n",
        "# Mount Google Drive\n",
        "drive.mount('/content/drive')"
      ],
      "metadata": {
        "colab": {
          "base_uri": "https://localhost:8080/"
        },
        "id": "ZsLkCJ-kUM1x",
        "outputId": "794380df-22c6-42ac-f101-545a10ce6e91"
      },
      "execution_count": 2,
      "outputs": [
        {
          "output_type": "stream",
          "name": "stdout",
          "text": [
            "Drive already mounted at /content/drive; to attempt to forcibly remount, call drive.mount(\"/content/drive\", force_remount=True).\n"
          ]
        }
      ]
    },
    {
      "cell_type": "code",
      "source": [
        "# Database setup\n",
        "DB_PATH = \"/content/drive/MyDrive/product-database/products.db\"\n",
        "DATABASE_URL = f\"sqlite:///{DB_PATH}\"\n",
        "os.makedirs(os.path.dirname(DB_PATH), exist_ok=True)\n",
        "engine = create_engine(DATABASE_URL, echo=True)\n",
        "db = SQLDatabase.from_uri(DATABASE_URL)"
      ],
      "metadata": {
        "id": "o4DwoAxRzBrA"
      },
      "execution_count": 3,
      "outputs": []
    },
    {
      "cell_type": "code",
      "source": [
        "# LLM & Chain setup\n",
        "llm = ChatGroq(\n",
        "    model_name=\"llama3-70b-8192\",\n",
        "    groq_api_key=GROQ_API_KEY,\n",
        "    temperature=0\n",
        ")\n",
        "\n",
        "chain = create_sql_query_chain(llm, db)"
      ],
      "metadata": {
        "id": "7G1DRKoxUR-v"
      },
      "execution_count": 4,
      "outputs": []
    },
    {
      "cell_type": "code",
      "source": [
        "class State(BaseModel):\n",
        "    user_input: str\n",
        "    raw_query: Optional[str] = None\n",
        "    cleaned_query: Optional[str] = None\n",
        "    query_result: Optional[str] = None\n",
        "    final_response: Optional[str] = None"
      ],
      "metadata": {
        "id": "d8KtLnXGMEj-"
      },
      "execution_count": 5,
      "outputs": []
    },
    {
      "cell_type": "code",
      "source": [
        "def generate_query(state: State):\n",
        "    \"\"\"Generate an SQL query, clean it, and fetch results from the database.\"\"\"\n",
        "\n",
        "    state.raw_query = chain.invoke({\"question\": state.user_input})\n",
        "\n",
        "    return state"
      ],
      "metadata": {
        "id": "4vfncsHdMHnF"
      },
      "execution_count": 6,
      "outputs": []
    },
    {
      "cell_type": "code",
      "source": [
        "def clean_query(state: State):\n",
        "    \"\"\"Clean the SQL query by removing formatting and fixing common issues\"\"\"\n",
        "\n",
        "    clean_prompt = [\n",
        "        {\n",
        "            \"role\": \"system\",\n",
        "            \"content\": \"\\n\".join([\n",
        "                \"You are an AI chatbot for an e-commerce platform.\",\n",
        "                \"Your role is to clean and format SQL queries to be safely executed in an SQLite database.\",\n",
        "                \"Ensure the query is free from unnecessary markdown formatting such as ``` and ```sql.\",\n",
        "                \"Remove any single or double quotes around column names, ensuring proper SQLite syntax.\",\n",
        "                \"Preserve the query structure and ensure it remains valid and executable.\",\n",
        "                \"Never modify table names, column names, or logical conditions; only clean the format.\",\n",
        "                \"Return only the cleaned SQL query without any additional explanation or comments.\"\n",
        "            ])\n",
        "        },\n",
        "        {\n",
        "            \"role\": \"user\",\n",
        "            \"content\": f\"Clean this SQL query for safe execution in SQLite: {state.raw_query}\"\n",
        "        }\n",
        "    ]\n",
        "\n",
        "    state.cleaned_query = llm.invoke(clean_prompt).content\n",
        "\n",
        "    return state"
      ],
      "metadata": {
        "id": "Oum43io6WrC4"
      },
      "execution_count": 7,
      "outputs": []
    },
    {
      "cell_type": "code",
      "source": [
        "def execute_query(state: State):\n",
        "    \"\"\"Execute the provided SQL query and return the result.\"\"\"\n",
        "\n",
        "    try:\n",
        "        state.query_result = db.run(state.cleaned_query)\n",
        "    except Exception as e:\n",
        "        state.query_result = f\"Error executing query: {str(e)}\"\n",
        "\n",
        "    return state"
      ],
      "metadata": {
        "id": "EgjFYLANXaKR"
      },
      "execution_count": 8,
      "outputs": []
    },
    {
      "cell_type": "code",
      "source": [
        "def generate_response(state: State):\n",
        "    \"\"\"Generate a user-friendly response based on the query result.\"\"\"\n",
        "\n",
        "    response_prompt = [\n",
        "        {\n",
        "            \"role\": \"system\",\n",
        "            \"content\": \"\\n\".join([\n",
        "                \"You are an AI chatbot for an e-commerce platform.\",\n",
        "                \"Your role is to transform database query results into clear, user-friendly responses.\",\n",
        "                \"Ensure that users receive relevant and easy-to-understand information based on their requests.\",\n",
        "                \"Help users find the best products that meet their needs by providing structured and informative responses.\",\n",
        "                \"If multiple relevant products are found, summarize them concisely while maintaining clarity.\",\n",
        "                \"Never generate any introduction or conclusion, Just answer the user directly.\"\n",
        "            ])\n",
        "        },\n",
        "        {\n",
        "            \"role\": \"user\",\n",
        "            \"content\": f\"Convert this results into a user-friendly response: {state}\"\n",
        "        }\n",
        "    ]\n",
        "\n",
        "    state.final_response = llm.invoke(response_prompt)\n",
        "\n",
        "    return state"
      ],
      "metadata": {
        "id": "Hqt5xYZAM9sU"
      },
      "execution_count": 9,
      "outputs": []
    },
    {
      "cell_type": "code",
      "source": [
        "workflow = StateGraph(State)\n",
        "\n",
        "workflow.add_node(\"generate_sql\", generate_query)\n",
        "workflow.add_node(\"clean_sql\", clean_query)\n",
        "workflow.add_node(\"execute_query\", execute_query)\n",
        "workflow.add_node(\"generate_response\", generate_response)\n",
        "\n",
        "\n",
        "workflow.set_entry_point(\"generate_sql\")\n",
        "workflow.add_edge(\"generate_sql\", \"clean_sql\")\n",
        "workflow.add_edge(\"clean_sql\", \"execute_query\")\n",
        "workflow.add_edge(\"execute_query\", \"generate_response\")\n",
        "\n",
        "graph = workflow.compile()"
      ],
      "metadata": {
        "id": "CyJNF584MHgb"
      },
      "execution_count": 10,
      "outputs": []
    },
    {
      "cell_type": "code",
      "source": [
        "from IPython.display import Image, display\n",
        "\n",
        "try:\n",
        "    display(Image(graph.get_graph().draw_mermaid_png()))\n",
        "except Exception:\n",
        "    pass"
      ],
      "metadata": {
        "colab": {
          "base_uri": "https://localhost:8080/",
          "height": 449
        },
        "id": "rhhbSLigiMR8",
        "outputId": "7797a076-7360-4abb-cb30-125d9d76a83d"
      },
      "execution_count": 11,
      "outputs": [
        {
          "output_type": "display_data",
          "data": {
            "image/png": "[encoded data removed]",
            "text/plain": [
              "<IPython.core.display.Image object>"
            ]
          },
          "metadata": {}
        }
      ]
    },
    {
      "cell_type": "code",
      "source": [
        "def start_chatbot():\n",
        "    print(\"Hello! I am your product assistant. (Type 'exit' to quit)\\n\")\n",
        "\n",
        "    while True:\n",
        "        user_input = input(\"You: \")\n",
        "        if user_input.lower() in [\"exit\", \"quit\", \"q\"]:\n",
        "            print(\"Goodbye!\")\n",
        "            break\n",
        "\n",
        "        state = graph.invoke(State(user_input=user_input))\n",
        "\n",
        "        bot_response = state[\"final_response\"].content\n",
        "        print(\"Bot:\", bot_response, \"\\n\")"
      ],
      "metadata": {
        "id": "iu3BLmuuVBsm"
      },
      "execution_count": 12,
      "outputs": []
    },
    {
      "cell_type": "code",
      "source": [
        "start_chatbot()"
      ],
      "metadata": {
        "colab": {
          "base_uri": "https://localhost:8080/"
        },
        "id": "Xxh0AWaZRrU2",
        "outputId": "310c51cd-bb39-41f3-ce3a-978ccd0ead57"
      },
      "execution_count": 13,
      "outputs": [
        {
          "output_type": "stream",
          "name": "stdout",
          "text": [
            "Hello! I am your product assistant. (Type 'exit' to quit)\n",
            "\n",
            "You: What's the cheapest product, and what is its description?\n",
            "Bot: The cheapest product is the Mechanical Pencil Set, priced at $19.99. It's a premium mechanical pencil set that comes with extra refills. \n",
            "\n",
            "You: How many electronic products does the company sell, and what are their average rating?\n",
            "Bot: The company sells 5 electronic products, and their average rating is 4.54 out of 5. \n",
            "\n",
            "You: What products cost less than $50? just give the names, prices, and ratings.\n",
            "Bot: Here are 5 products that cost less than $50:\n",
            "\n",
            "* Smart Fitness Tracker: $49.99, rated 4.3\n",
            "* Organic Cotton T-Shirt: $24.99, rated 4.7\n",
            "* Yoga Mat: $29.99, rated 4.4\n",
            "* LED Desk Lamp: $39.99, rated 4.2\n",
            "* Wireless Mouse: $25.99, rated 4.3 \n",
            "\n",
            "You: What are the top rated brands? and what are their average prices?\n",
            "Bot: Here are the top 5 rated brands along with their average prices:\n",
            "\n",
            "1. VisionTech - $299.99\n",
            "2. PureAir - $159.99\n",
            "3. ChefPro - $89.99\n",
            "4. TimeTech - $199.99\n",
            "5. SafeHome - $129.99 \n",
            "\n",
            "You: I usually use wireless devices, can u recommend me some?\n",
            "Bot: Here are some wireless device recommendations that might interest you:\n",
            "\n",
            "* Wireless Bluetooth Headphones: $79.99, rated 4.5/5\n",
            "* Wireless Mouse: $25.99, rated 4.3/5 \n",
            "\n",
            "You: exit\n",
            "Goodbye!\n"
          ]
        }
      ]
    },
    {
      "cell_type": "code",
      "source": [
        "# Question Samples:\n",
        "\n",
        "# What's the cheapest product, and what is its description?\n",
        "# How many products does the company sell, and how many in the stock?\n",
        "# How many electronic products does the company sell, and what are their average rating?\n",
        "# What products cost less than $50? just give the names, prices, and ratings.\n",
        "# What categories does the company have? and what is the stock of each?\n",
        "# What are the top rated brands? and what are their average prices?\n",
        "# Show me all wireless products, with their description, and rating.\n",
        "# I usually use wireless devices, can u recommend me some?"
      ],
      "metadata": {
        "id": "h6JnjSgHSsbc"
      },
      "execution_count": 14,
      "outputs": []
    },
    {
      "cell_type": "code",
      "source": [],
      "metadata": {
        "id": "oCsCRj3WSt93"
      },
      "execution_count": 14,
      "outputs": []
    }
  ]
}